{
 "cells": [
  {
   "cell_type": "code",
   "execution_count": 1,
   "id": "aff54ec1-fa5c-41b8-983f-db0011e50e98",
   "metadata": {},
   "outputs": [
    {
     "name": "stdout",
     "output_type": "stream",
     "text": [
      "Titanic 2201 29.5 True\n",
      "<class 'str'> <class 'int'> <class 'float'> <class 'bool'>\n"
     ]
    }
   ],
   "source": [
    "name = \"Titanic\"\n",
    "passengers = 2201\n",
    "average_age = 29.5\n",
    "is_sunk = True\n",
    "\n",
    "print(name, passengers, average_age, is_sunk)\n",
    "print(type(name), type(passengers), type(average_age), type(is_sunk))\n"
   ]
  },
  {
   "cell_type": "code",
   "execution_count": 7,
   "id": "0643bfd4-856b-4a9f-8f9a-7702abb7c0f8",
   "metadata": {},
   "outputs": [
    {
     "name": "stdout",
     "output_type": "stream",
     "text": [
      "Titanic 乘客的平均年龄: 31.7\n"
     ]
    }
   ],
   "source": [
    "# 假设数据已硬编码\n",
    "passenger_ages = [22, 38, 26, 35, 27, 19, 40, 32, 50, 28]\n",
    "\n",
    "# 计算平均年龄\n",
    "average_age = sum(passenger_ages) / len(passenger_ages)\n",
    "print(\"Titanic 乘客的平均年龄:\" ,\n",
    "    average_age)\n"
   ]
  },
  {
   "cell_type": "code",
   "execution_count": 2,
   "id": "02dbf100-c853-4e63-b0d7-0033f0769d2f",
   "metadata": {},
   "outputs": [
    {
     "name": "stdout",
     "output_type": "stream",
     "text": [
      "Jack\n",
      "John\n",
      "Jack\n",
      "Rose\n",
      "Michael\n",
      "John\n",
      "David\n"
     ]
    }
   ],
   "source": [
    "# 创建乘客姓名列表\n",
    "passenger_names = [\"Jack\", \"Rose\", \"Smith\", \"Emily\", \"John\"]\n",
    "\n",
    "# 访问列表元素\n",
    "print(passenger_names[0])  # Jack\n",
    "print(passenger_names[-1])  # John\n",
    "\n",
    "# 添加新乘客\n",
    "passenger_names.append(\"David\")\n",
    "\n",
    "# 删除乘客\n",
    "passenger_names.remove(\"Smith\")\n",
    "\n",
    "# 修改列表元素\n",
    "passenger_names[2] = \"Michael\"\n",
    "\n",
    "# 遍历列表\n",
    "for name in passenger_names:\n",
    "    print(name)\n"
   ]
  },
  {
   "cell_type": "code",
   "execution_count": null,
   "id": "aa5ee567-2d3a-47a2-b2e3-fdaf9b2bbef3",
   "metadata": {},
   "outputs": [],
   "source": [
    "#####################\n",
    "#####################\n",
    "#####################\n",
    "below is the exercise"
   ]
  },
  {
   "cell_type": "code",
   "execution_count": 4,
   "id": "579a45d4-6a31-4a34-b43e-2aa40dc57325",
   "metadata": {},
   "outputs": [
    {
     "name": "stdout",
     "output_type": "stream",
     "text": [
      "乘客总数: 15\n",
      "总年龄: 416\n",
      "平均年龄: 27 岁\n",
      "儿童乘客年龄列表: [2, 14, 4, 14]\n",
      "儿童乘客数量: 4\n"
     ]
    }
   ],
   "source": [
    "# 任务1：存储乘客数据并计算平均年龄\n",
    "# 假设这是从 Titanic 数据中提取的乘客年龄列表（单位：岁）\n",
    "ages = [22, 38, 26, 35, 35, 28, 54, 2, 27, 14, 4, 58, 20, 39, 14]\n",
    "\n",
    "# 计算平均年龄（整数除法）\n",
    "total_age = sum(ages)\n",
    "num_passengers = len(ages)\n",
    "average_age = total_age // num_passengers  # 使用 // 取整\n",
    "\n",
    "print(f\"乘客总数: {num_passengers}\") #f\"\" 表示这个字符串是 格式化字符串。{} 里面可以直接写变量，Python 会自动替换为变量的值。\n",
    "print(f\"总年龄: {total_age}\")\n",
    "print(f\"平均年龄: {average_age} 岁\")\n",
    "\n",
    "# 任务2：用列表操作筛选儿童乘客（年龄 < 18）\n",
    "children = [age for age in ages if age < 18]\n",
    "\n",
    "print(f\"儿童乘客年龄列表: {children}\")\n",
    "print(f\"儿童乘客数量: {len(children)}\")\n"
   ]
  },
  {
   "cell_type": "code",
   "execution_count": null,
   "id": "d3f60644-3a4d-4002-b162-5162853e6539",
   "metadata": {},
   "outputs": [],
   "source": []
  },
  {
   "cell_type": "code",
   "execution_count": null,
   "id": "db84bfa5-dd80-447e-b86c-37e5f7045fac",
   "metadata": {},
   "outputs": [],
   "source": []
  }
 ],
 "metadata": {
  "kernelspec": {
   "display_name": "Python [conda env:base] *",
   "language": "python",
   "name": "conda-base-py"
  },
  "language_info": {
   "codemirror_mode": {
    "name": "ipython",
    "version": 3
   },
   "file_extension": ".py",
   "mimetype": "text/x-python",
   "name": "python",
   "nbconvert_exporter": "python",
   "pygments_lexer": "ipython3",
   "version": "3.12.7"
  }
 },
 "nbformat": 4,
 "nbformat_minor": 5
}
